{
  "cells": [
    {
      "cell_type": "code",
      "execution_count": null,
      "metadata": {
        "collapsed": false
      },
      "outputs": [],
      "source": [
        "%matplotlib inline"
      ]
    },
    {
      "cell_type": "markdown",
      "metadata": {},
      "source": [
        "\nAdvanced Example\n================\n\n| ConfigSpace is able to realize constraints as well as forbidden clauses in the *configuration space*.\n| This is often necessary, because some hyperparameters necessitate some other hyperparameters.\n| We will explain you the conditions by showing you a simple example.\n\n| It captures the topics:\n\n1) EqualsCondition\n2) NotEqualsCondition\n3) LessThanCondition\n4) GreaterThanCondition\n5) InCondition\n6) AndConjunction\n7) OrConjunction\n8) ForbiddenEqualsClause\n9) ForbiddenInClause\n10) ForbiddenAndConjunction\n\n+------------------------+---------------+----------+---------------------------+\n| Parameter              | Type          | values   |  condition                |\n+========================+===============+==========+===========================+\n| a                      | categorical   | 1, 2, 3  |  None                     |\n+------------------------+---------------+----------+---------------------------+\n| b                      | uniform float | 1.-8.    |  a == 1                   |\n+------------------------+---------------+----------+---------------------------+\n| c                      | uniform float | 10-100   |  a != 2                   |\n+------------------------+---------------+----------+---------------------------+\n| d                      | uniform int   | 10-100   |  b < 5 AND b > 2          |\n+------------------------+---------------+----------+---------------------------+\n| e                      | uniform int   | 10-100   | c in {25,26,27} OR a == 2 |\n+------------------------+---------------+----------+---------------------------+\n| f                      | categorical   | 1, 2, 3  | Forbidden: f = g = 2      |\n+------------------------+---------------+----------+---------------------------+\n| g                      | categorical   | 2, 5, 6  |  None                     |\n+------------------------+---------------+----------+---------------------------+\n\n\n"
      ]
    },
    {
      "cell_type": "code",
      "execution_count": null,
      "metadata": {
        "collapsed": false
      },
      "outputs": [],
      "source": [
        "import ConfigSpace as CS\nimport ConfigSpace.hyperparameters as CSH\n\n# First, define the hyperparameter and add them to the configuration space\ncs = CS.ConfigurationSpace()\na = CSH.CategoricalHyperparameter('a', choices=[1, 2, 3])\nb = CSH.UniformFloatHyperparameter('b', lower=1., upper=8., log=False)\nc = CSH.UniformIntegerHyperparameter('c', lower=10, upper=100, log=False)\nd = CSH.UniformIntegerHyperparameter('d', lower=10, upper=100, log=False)\ne = CSH.UniformIntegerHyperparameter('e', lower=10, upper=100, log=False)\nf = CSH.CategoricalHyperparameter('f', [1, 2, 3])\ng = CSH.CategoricalHyperparameter('g', [2, 5, 6])\n\ncs.add_hyperparameters([a, b, c, d, e, f, g])\n\n# 1) EqualsCondition:\n#    'b' is only active if 'a' is equal to 1\ncond = CS.EqualsCondition(b, a, 1)\ncs.add_condition(cond)\n\n# 2) NotEqualsCondition:\n#    'c' is only active if 'a' is not equal to 2\ncond = CS.NotEqualsCondition(c, a, 2)\ncs.add_condition(cond)\n\n# 3) LessThanCondition:\n#    'd' is only active if 'b' is less than 5\n# We do not add this condition here directly, because we will use it later in the and-conjunction.\nless_cond = CS.LessThanCondition(d, b, 5)\n\n# 4) GreaterThanCondition:\n#    'd' is only active if 'b' is greater than 2\ngreater_cond = CS.GreaterThanCondition(d, b, 2)\n\n# 5) InCondition:\n#    'e' is only active if 'c' is in the set [25, 26, 27]\nin_cond = CS.InCondition(e, c, [25, 26, 27])\n\n# 6) AndConjunction:\n#    The 'and-conjunction' combines the conditions less_cond and greater_cond\ncs.add_condition(CS.AndConjunction(less_cond, greater_cond))\n\n# 7) OrConjunction:\n#    The 'or-conjunction' works similar to the and-conjunction\nequals_cond = CS.EqualsCondition(e, a, 2)\ncs.add_condition(CS.OrConjunction(in_cond, equals_cond))\n\n# 8) ForbiddenEqualsClause:\n#    This clause forbids the value 2 for the hyperparameter f\nforbidden_clause_f = CS.ForbiddenEqualsClause(f, 2)\n\n# 9) ForbiddenInClause\n#    This clause forbids the value of the hyperparameter g to be in the set [2]\nforbidden_clause_g = CS.ForbiddenInClause(g, [2])\n\n# 10) ForbiddenAndConjunction\n#     Now, we combine them in an 'and-conjunction' and add them to the configspace\nforbidden_clause = CS.ForbiddenAndConjunction(forbidden_clause_f, forbidden_clause_g)\ncs.add_forbidden_clause(forbidden_clause)"
      ]
    }
  ],
  "metadata": {
    "kernelspec": {
      "display_name": "Python 3",
      "language": "python",
      "name": "python3"
    },
    "language_info": {
      "codemirror_mode": {
        "name": "ipython",
        "version": 3
      },
      "file_extension": ".py",
      "mimetype": "text/x-python",
      "name": "python",
      "nbconvert_exporter": "python",
      "pygments_lexer": "ipython3",
      "version": "3.6.5"
    }
  },
  "nbformat": 4,
  "nbformat_minor": 0
}